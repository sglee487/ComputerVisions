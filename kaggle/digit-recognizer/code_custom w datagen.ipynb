{
 "cells": [
  {
   "cell_type": "markdown",
   "metadata": {},
   "source": [
    "Original Codes from :  \n",
    "https://www.kaggle.com/yassineghouzam/introduction-to-cnn-keras-0-997-top-6  \n",
    "https://tykimos.github.io/2017/06/10/CNN_Data_Augmentation/"
   ]
  },
  {
   "cell_type": "code",
   "execution_count": 1,
   "metadata": {},
   "outputs": [
    {
     "name": "stdout",
     "output_type": "stream",
     "text": [
      "E:\\Anaconda3\\envs\\tensorflowgpu\\python.exe\n"
     ]
    }
   ],
   "source": [
    "import sys\n",
    "print(sys.executable)"
   ]
  },
  {
   "cell_type": "code",
   "execution_count": 2,
   "metadata": {},
   "outputs": [
    {
     "name": "stdout",
     "output_type": "stream",
     "text": [
      "tensorflow version: 2.1.0\n",
      "WARNING:tensorflow:From <ipython-input-2-fba3fde6de0d>:14: is_gpu_available (from tensorflow.python.framework.test_util) is deprecated and will be removed in a future version.\n",
      "Instructions for updating:\n",
      "Use `tf.config.list_physical_devices('GPU')` instead.\n",
      "GPU 사용 가능 여부: True\n",
      "[PhysicalDevice(name='/physical_device:GPU:0', device_type='GPU')]\n"
     ]
    }
   ],
   "source": [
    "import pandas as pd\n",
    "import numpy as np\n",
    "import matplotlib.pyplot as plt\n",
    "import seaborn as sns\n",
    "import time\n",
    "import os\n",
    "from IPython.display import clear_output\n",
    "%matplotlib inline\n",
    "\n",
    "import tensorflow as tf\n",
    "import tensorflow_addons as tfa\n",
    "\n",
    "print('tensorflow version: {}'.format(tf.__version__))\n",
    "print('GPU 사용 가능 여부: {}'.format(tf.test.is_gpu_available()))\n",
    "print(tf.config.list_physical_devices('GPU'))"
   ]
  },
  {
   "cell_type": "code",
   "execution_count": 3,
   "metadata": {},
   "outputs": [],
   "source": [
    "train_pandas = pd.read_csv(\"./input/train.csv\")\n",
    "test_pandas = pd.read_csv(\"./input/test.csv\")"
   ]
  },
  {
   "cell_type": "code",
   "execution_count": 4,
   "metadata": {},
   "outputs": [],
   "source": [
    "train_label = train_pandas[\"label\"]\n",
    "train_data = train_pandas.drop([\"label\"],axis=1)\n",
    "test_data = test_pandas"
   ]
  },
  {
   "cell_type": "code",
   "execution_count": 5,
   "metadata": {},
   "outputs": [
    {
     "name": "stdout",
     "output_type": "stream",
     "text": [
      "       pixel0  pixel1  pixel2  pixel3  pixel4  pixel5  pixel6  pixel7  pixel8  \\\n",
      "0           0       0       0       0       0       0       0       0       0   \n",
      "1           0       0       0       0       0       0       0       0       0   \n",
      "2           0       0       0       0       0       0       0       0       0   \n",
      "3           0       0       0       0       0       0       0       0       0   \n",
      "4           0       0       0       0       0       0       0       0       0   \n",
      "...       ...     ...     ...     ...     ...     ...     ...     ...     ...   \n",
      "41995       0       0       0       0       0       0       0       0       0   \n",
      "41996       0       0       0       0       0       0       0       0       0   \n",
      "41997       0       0       0       0       0       0       0       0       0   \n",
      "41998       0       0       0       0       0       0       0       0       0   \n",
      "41999       0       0       0       0       0       0       0       0       0   \n",
      "\n",
      "       pixel9  ...  pixel774  pixel775  pixel776  pixel777  pixel778  \\\n",
      "0           0  ...         0         0         0         0         0   \n",
      "1           0  ...         0         0         0         0         0   \n",
      "2           0  ...         0         0         0         0         0   \n",
      "3           0  ...         0         0         0         0         0   \n",
      "4           0  ...         0         0         0         0         0   \n",
      "...       ...  ...       ...       ...       ...       ...       ...   \n",
      "41995       0  ...         0         0         0         0         0   \n",
      "41996       0  ...         0         0         0         0         0   \n",
      "41997       0  ...         0         0         0         0         0   \n",
      "41998       0  ...         0         0         0         0         0   \n",
      "41999       0  ...         0         0         0         0         0   \n",
      "\n",
      "       pixel779  pixel780  pixel781  pixel782  pixel783  \n",
      "0             0         0         0         0         0  \n",
      "1             0         0         0         0         0  \n",
      "2             0         0         0         0         0  \n",
      "3             0         0         0         0         0  \n",
      "4             0         0         0         0         0  \n",
      "...         ...       ...       ...       ...       ...  \n",
      "41995         0         0         0         0         0  \n",
      "41996         0         0         0         0         0  \n",
      "41997         0         0         0         0         0  \n",
      "41998         0         0         0         0         0  \n",
      "41999         0         0         0         0         0  \n",
      "\n",
      "[42000 rows x 784 columns]\n"
     ]
    }
   ],
   "source": [
    "print(train_data)"
   ]
  },
  {
   "cell_type": "code",
   "execution_count": 6,
   "metadata": {},
   "outputs": [
    {
     "data": {
      "image/png": "[encoded data removed]",
      "text/plain": [
       "<Figure size 576x576 with 25 Axes>"
      ]
     },
     "metadata": {
      "needs_background": "light"
     },
     "output_type": "display_data"
    }
   ],
   "source": [
    "labels_map = {0: '0', 1: '1', 2: '2', 3: '3', 4: '4',\n",
    "              5: '5', 6: '6', 7: '7', 8: '8', 9: '9'}\n",
    "columns = 5\n",
    "rows = 5\n",
    "fig = plt.figure(figsize=(8, 8))\n",
    "\n",
    "for i in range(1, columns*rows+1):\n",
    "    data_idx = np.random.randint(len(train_data.values))\n",
    "    img = train_data.values[data_idx].reshape([28, 28])\n",
    "    label = labels_map[train_label[data_idx]]\n",
    "\n",
    "    fig.add_subplot(rows, columns, i)\n",
    "    plt.title(label)\n",
    "    plt.imshow(img, cmap='gray')\n",
    "    plt.axis('off')\n",
    "plt.show()"
   ]
  },
  {
   "cell_type": "code",
   "execution_count": 7,
   "metadata": {},
   "outputs": [],
   "source": [
    "from sklearn.model_selection import train_test_split\n",
    "\n",
    "train_data, val_data, train_label, val_label = train_test_split(train_data, train_label, test_size = 0.1, random_state=1)"
   ]
  },
  {
   "cell_type": "code",
   "execution_count": 8,
   "metadata": {},
   "outputs": [],
   "source": [
    "batch_size = 20\n",
    "max_epochs = 20\n",
    "learning_rate = 1e-4\n",
    "num_classes = 10\n",
    "batch_size = 128"
   ]
  },
  {
   "cell_type": "code",
   "execution_count": 9,
   "metadata": {},
   "outputs": [],
   "source": [
    "def normalize_image(input_image):\n",
    "    input_image = (input_image / 255)\n",
    "\n",
    "    return input_image"
   ]
  },
  {
   "cell_type": "code",
   "execution_count": 10,
   "metadata": {},
   "outputs": [],
   "source": [
    "def reshape_image(input_image):\n",
    "    return input_image.values.reshape(-1,28,28,1)"
   ]
  },
  {
   "cell_type": "code",
   "execution_count": 11,
   "metadata": {},
   "outputs": [],
   "source": [
    "train_data = normalize_image(train_data)\n",
    "train_data = reshape_image(train_data)\n",
    "val_data = normalize_image(val_data)\n",
    "val_data = reshape_image(val_data)\n",
    "test_data = normalize_image(test_data)\n",
    "test_data = reshape_image(test_data)\n",
    "\n",
    "train_label = train_label.values\n",
    "val_label = val_label.values"
   ]
  },
  {
   "cell_type": "code",
   "execution_count": 12,
   "metadata": {},
   "outputs": [],
   "source": [
    "train_label = tf.one_hot(train_label,num_classes)\n",
    "val_label = tf.one_hot(val_label,num_classes)"
   ]
  },
  {
   "cell_type": "code",
   "execution_count": 13,
   "metadata": {},
   "outputs": [
    {
     "name": "stdout",
     "output_type": "stream",
     "text": [
      "(28, 28, 1)\n"
     ]
    }
   ],
   "source": [
    "print(train_data[0].shape)"
   ]
  },
  {
   "cell_type": "code",
   "execution_count": 14,
   "metadata": {},
   "outputs": [],
   "source": [
    "random_list = [np.random.randint(len(train_data)) for r in range(25)]"
   ]
  },
  {
   "cell_type": "markdown",
   "metadata": {},
   "source": [
    "https://www.tensorflow.org/guide/data#consuming_python_generators"
   ]
  },
  {
   "cell_type": "markdown",
   "metadata": {},
   "source": [
    "https://www.tensorflow.org/api_docs/python/tf/keras/preprocessing/image/ImageDataGenerator"
   ]
  },
  {
   "cell_type": "code",
   "execution_count": 15,
   "metadata": {},
   "outputs": [],
   "source": [
    "datagen = tf.keras.preprocessing.image.ImageDataGenerator(\n",
    "        featurewise_center=False,  # set input mean to 0 over the dataset\n",
    "        samplewise_center=False,  # set each sample mean to 0\n",
    "        featurewise_std_normalization=False,  # divide inputs by std of the dataset\n",
    "        samplewise_std_normalization=False,  # divide each input by its std\n",
    "        zca_whitening=False,  # apply ZCA whitening\n",
    "        rotation_range=10,  # randomly rotate images in the range (degrees, 0 to 180)\n",
    "        zoom_range = 0.1, # Randomly zoom image \n",
    "        width_shift_range=0.1,  # randomly shift images horizontally (fraction of total width)\n",
    "        height_shift_range=0.1,  # randomly shift images vertically (fraction of total height)\n",
    "        horizontal_flip=False,  # randomly flip images\n",
    "        vertical_flip=False)  # randomly flip images"
   ]
  },
  {
   "cell_type": "code",
   "execution_count": 16,
   "metadata": {},
   "outputs": [],
   "source": [
    "class Conv(tf.keras.Model):\n",
    "    def __init__(self, num_filters, kernel_size):\n",
    "        super(Conv, self).__init__()\n",
    "        ## 코드 시작 ##\n",
    "        self.conv = tf.keras.layers.Conv2D(filters=num_filters,kernel_size=[kernel_size, kernel_size],padding='Same')\n",
    "        self.bn = tf.keras.layers.BatchNormalization()\n",
    "        self.relu = tf.keras.layers.ReLU()\n",
    "        self.pool = tf.keras.layers.MaxPool2D(pool_size=(2,2))\n",
    "        self.dropout = tf.keras.layers.Dropout(0.25)\n",
    "        ## 코드 종료 ##\n",
    "\n",
    "    def call(self, inputs, training=True):\n",
    "        ## 코드 시작 ##\n",
    "        x = self.conv(inputs)    # self.conv forward\n",
    "        x = self.bn(x)    # self.bn   forward\n",
    "        x = self.relu(x)    # self.relu forward\n",
    "        x = self.pool(x)    # self.pool forward\n",
    "        x = self.dropout(x)\n",
    "        ## 코드 종료 ##\n",
    "\n",
    "        return x"
   ]
  },
  {
   "cell_type": "code",
   "execution_count": 17,
   "metadata": {},
   "outputs": [],
   "source": [
    "class SimpleCNN(tf.keras.Model):\n",
    "    def __init__(self):\n",
    "        super(SimpleCNN, self).__init__()\n",
    "        ## 코드 시작 ##\n",
    "        self.conv1 = Conv(32,5)\n",
    "        self.conv2 = Conv(64,3)\n",
    "\n",
    "        self.flatten = tf.keras.layers.Flatten()\n",
    "        self.dense1 = tf.keras.layers.Dense(units=256,activation=tf.nn.relu)\n",
    "        self.dropout = tf.keras.layers.Dropout(0.25)\n",
    "        self.dense2 = tf.keras.layers.Dense(units=num_classes,activation=tf.nn.softmax)\n",
    "        ## 코드 종료 ##\n",
    "\n",
    "    def call(self, inputs, training=True):\n",
    "        ## 코드 시작 ##\n",
    "        x = self.conv1(inputs)    # self.conv1 forward\n",
    "        x = self.conv2(x)    # self.conv2 forward\n",
    "        x = self.flatten(x)    # flatten \n",
    "        x = self.dense1(x)    # self.dense1 forward\n",
    "        x = self.dropout(x)\n",
    "        x = self.dense2(x)    # self.dense2 forward\n",
    "        ## 코드 종료 ##\n",
    "\n",
    "        return x"
   ]
  },
  {
   "cell_type": "code",
   "execution_count": 18,
   "metadata": {},
   "outputs": [],
   "source": [
    "train_dir = os.path.join('./train/exp2')\n",
    "print_steps = 25\n",
    "val_epoch = 1"
   ]
  },
  {
   "cell_type": "code",
   "execution_count": 19,
   "metadata": {},
   "outputs": [],
   "source": [
    "# Define the optimizer\n",
    "optimizer = tf.keras.optimizers.RMSprop(lr=0.001, rho=0.9, epsilon=1e-08, decay=0.0)"
   ]
  },
  {
   "cell_type": "code",
   "execution_count": 20,
   "metadata": {},
   "outputs": [],
   "source": [
    "learning_rate_reduction = tf.keras.callbacks.ReduceLROnPlateau(monitor='val_acc', \n",
    "                                            patience=3, \n",
    "                                            verbose=1, \n",
    "                                            factor=0.5, \n",
    "                                            min_lr=0.00001)"
   ]
  },
  {
   "cell_type": "code",
   "execution_count": 21,
   "metadata": {},
   "outputs": [],
   "source": [
    "model = SimpleCNN()"
   ]
  },
  {
   "cell_type": "code",
   "execution_count": 22,
   "metadata": {},
   "outputs": [],
   "source": [
    "# Compile the model\n",
    "model.compile(optimizer = optimizer , loss = \"categorical_crossentropy\", metrics=[\"accuracy\"])"
   ]
  },
  {
   "cell_type": "markdown",
   "metadata": {},
   "source": [
    "https://www.tensorflow.org/api_docs/python/tf/keras/Model#fit_generator"
   ]
  },
  {
   "cell_type": "code",
   "execution_count": 23,
   "metadata": {},
   "outputs": [
    {
     "name": "stdout",
     "output_type": "stream",
     "text": [
      "WARNING:tensorflow:From <ipython-input-23-a9b801b43987>:6: Model.fit_generator (from tensorflow.python.keras.engine.training) is deprecated and will be removed in a future version.\n",
      "Instructions for updating:\n",
      "Please use Model.fit, which supports generators.\n",
      "Train for 295 steps, validate on 4200 samples\n",
      "Epoch 1/20\n",
      "295/295 [==============================] - 10s 33ms/step - loss: 0.7993 - accuracy: 0.7793 - val_loss: 0.2043 - val_accuracy: 0.5344\n",
      "Epoch 2/20\n",
      "295/295 [==============================] - 8s 26ms/step - loss: 0.2005 - accuracy: 0.9373 - val_loss: 0.0178 - val_accuracy: 0.9672\n",
      "Epoch 3/20\n",
      "295/295 [==============================] - 8s 26ms/step - loss: 0.1515 - accuracy: 0.9534 - val_loss: 0.0122 - val_accuracy: 0.9844\n",
      "Epoch 4/20\n",
      "295/295 [==============================] - 8s 26ms/step - loss: 0.1342 - accuracy: 0.9605 - val_loss: 0.0112 - val_accuracy: 0.9812\n",
      "Epoch 5/20\n",
      "295/295 [==============================] - 7s 25ms/step - loss: 0.1128 - accuracy: 0.9660 - val_loss: 0.0130 - val_accuracy: 0.9766\n",
      "Epoch 6/20\n",
      "295/295 [==============================] - 8s 25ms/step - loss: 0.1038 - accuracy: 0.9686 - val_loss: 0.0095 - val_accuracy: 0.9828\n",
      "Epoch 7/20\n",
      "295/295 [==============================] - 8s 25ms/step - loss: 0.0956 - accuracy: 0.9716 - val_loss: 0.0088 - val_accuracy: 0.9844\n",
      "Epoch 8/20\n",
      "295/295 [==============================] - 7s 25ms/step - loss: 0.0887 - accuracy: 0.9736 - val_loss: 0.0061 - val_accuracy: 0.9875\n",
      "Epoch 9/20\n",
      "295/295 [==============================] - 8s 25ms/step - loss: 0.0838 - accuracy: 0.9750 - val_loss: 0.0074 - val_accuracy: 0.9844\n",
      "Epoch 10/20\n",
      "295/295 [==============================] - 8s 26ms/step - loss: 0.0775 - accuracy: 0.9773 - val_loss: 0.0070 - val_accuracy: 0.9828\n",
      "Epoch 11/20\n",
      "295/295 [==============================] - 7s 25ms/step - loss: 0.0729 - accuracy: 0.9775 - val_loss: 0.0108 - val_accuracy: 0.9828\n",
      "Epoch 12/20\n",
      "295/295 [==============================] - 8s 26ms/step - loss: 0.0717 - accuracy: 0.9788 - val_loss: 0.0080 - val_accuracy: 0.9875\n",
      "Epoch 13/20\n",
      "295/295 [==============================] - 7s 25ms/step - loss: 0.0708 - accuracy: 0.9788 - val_loss: 0.0078 - val_accuracy: 0.9828\n",
      "Epoch 14/20\n",
      "295/295 [==============================] - 8s 26ms/step - loss: 0.0695 - accuracy: 0.9799 - val_loss: 0.0063 - val_accuracy: 0.9859\n",
      "Epoch 15/20\n",
      "295/295 [==============================] - 7s 25ms/step - loss: 0.0668 - accuracy: 0.9805 - val_loss: 0.0064 - val_accuracy: 0.9891\n",
      "Epoch 16/20\n",
      "295/295 [==============================] - 8s 26ms/step - loss: 0.0665 - accuracy: 0.9805 - val_loss: 0.0196 - val_accuracy: 0.9484\n",
      "Epoch 17/20\n",
      "295/295 [==============================] - 8s 26ms/step - loss: 0.0662 - accuracy: 0.9807 - val_loss: 0.0052 - val_accuracy: 0.9859\n",
      "Epoch 18/20\n",
      "295/295 [==============================] - 8s 26ms/step - loss: 0.0623 - accuracy: 0.9813 - val_loss: 0.0060 - val_accuracy: 0.9891\n",
      "Epoch 19/20\n",
      "295/295 [==============================] - 8s 26ms/step - loss: 0.0629 - accuracy: 0.9822 - val_loss: 0.0050 - val_accuracy: 0.9922\n",
      "Epoch 20/20\n",
      "295/295 [==============================] - 8s 26ms/step - loss: 0.0625 - accuracy: 0.9826 - val_loss: 0.0057 - val_accuracy: 0.9891\n"
     ]
    }
   ],
   "source": [
    "history = model.fit_generator(\n",
    "        datagen.flow(train_data,train_label, batch_size=batch_size),\n",
    "        steps_per_epoch=train_data.shape[0] // batch_size,\n",
    "        epochs=max_epochs,\n",
    "        validation_data=(val_data,val_label),\n",
    "        validation_steps=5)"
   ]
  },
  {
   "cell_type": "code",
   "execution_count": 24,
   "metadata": {},
   "outputs": [
    {
     "data": {
      "image/png": "[encoded data removed]",
      "text/plain": [
       "<Figure size 432x288 with 2 Axes>"
      ]
     },
     "metadata": {
      "needs_background": "light"
     },
     "output_type": "display_data"
    }
   ],
   "source": [
    "# Plot the loss and accuracy curves for training and validation \n",
    "fig, ax = plt.subplots(2,1)\n",
    "ax[0].plot(history.history['loss'], color='b', label=\"Training loss\")\n",
    "ax[0].plot(history.history['val_loss'], color='r', label=\"validation loss\",axes =ax[0])\n",
    "legend = ax[0].legend(loc='best', shadow=True)\n",
    "\n",
    "ax[1].plot(history.history['accuracy'], color='b', label=\"Training accuracy\")\n",
    "ax[1].plot(history.history['val_accuracy'], color='r',label=\"Validation accuracy\")\n",
    "legend = ax[1].legend(loc='best', shadow=True)"
   ]
  },
  {
   "cell_type": "code",
   "execution_count": 25,
   "metadata": {},
   "outputs": [
    {
     "name": "stdout",
     "output_type": "stream",
     "text": [
      "(4200, 28, 28, 1)\n"
     ]
    }
   ],
   "source": [
    "print(val_data.shape)"
   ]
  },
  {
   "cell_type": "code",
   "execution_count": 26,
   "metadata": {},
   "outputs": [
    {
     "name": "stdout",
     "output_type": "stream",
     "text": [
      "(28, 28)\n"
     ]
    }
   ],
   "source": [
    "print(val_data[1][:,:,0].shape)"
   ]
  },
  {
   "cell_type": "code",
   "execution_count": 28,
   "metadata": {},
   "outputs": [],
   "source": [
    "val_label_num = np.argmax(val_label, axis=1).reshape(-1,1)"
   ]
  },
  {
   "cell_type": "code",
   "execution_count": 30,
   "metadata": {
    "scrolled": false
   },
   "outputs": [
    {
     "name": "stdout",
     "output_type": "stream",
     "text": [
      "[ 660  634  573 1697 1411 1684 1461 1173 2621 1517 3163 2835 2435  127\n",
      " 3848 1283  982 3745  506 2547 1325  207  527  682   85]\n",
      "(25, 28, 28, 1)\n",
      "(25, 1)\n"
     ]
    },
    {
     "data": {
      "image/png": "[encoded data removed]",
      "text/plain": [
       "<Figure size 720x720 with 25 Axes>"
      ]
     },
     "metadata": {
      "needs_background": "light"
     },
     "output_type": "display_data"
    }
   ],
   "source": [
    "test_batch_size = 25\n",
    "batch_index = np.random.choice(\n",
    "    len(val_data), size=test_batch_size, replace=False)\n",
    "\n",
    "print(batch_index)\n",
    "\n",
    "batch_xs = val_data[batch_index]\n",
    "batch_ys = val_label_num[batch_index]\n",
    "y_pred_ = model(batch_xs, training=False)\n",
    "\n",
    "print(batch_xs.shape)\n",
    "print(batch_ys.shape)\n",
    "\n",
    "fig = plt.figure(figsize=(10, 10))\n",
    "for i, (px, py, y_pred) in enumerate(zip(batch_xs, batch_ys, y_pred_)):\n",
    "    p = fig.add_subplot(5, 5, i+1)\n",
    "    if np.argmax(y_pred) == py:\n",
    "        p.set_title(\"{}\".format(labels_map[py[0]]), color='blue')\n",
    "    else:\n",
    "        p.set_title(\"{}/{}\".format(labels_map[np.argmax(y_pred)],\n",
    "                                   labels_map[py[0]]), color='red')\n",
    "    p.imshow(px[:,:,0], cmap=\"gray\")\n",
    "    p.axis('off')"
   ]
  },
  {
   "cell_type": "code",
   "execution_count": 31,
   "metadata": {},
   "outputs": [],
   "source": [
    "test_datasetd = tf.data.Dataset.from_tensor_slices(test_data)\n",
    "test_datasetd = test_datasetd.batch(batch_size)"
   ]
  },
  {
   "cell_type": "code",
   "execution_count": 32,
   "metadata": {},
   "outputs": [],
   "source": [
    "def test(model, test_dataonly):\n",
    "    print('Start test..')\n",
    "    predictions = []\n",
    "    \n",
    "    tmp_list = []\n",
    "\n",
    "    for images in test_dataonly:\n",
    "        predictions = np.append(predictions, np.argmax(model(images), axis=1)).astype(int)\n",
    "        \n",
    "    print(\"test done...\")\n",
    "    \n",
    "    return predictions"
   ]
  },
  {
   "cell_type": "code",
   "execution_count": 33,
   "metadata": {},
   "outputs": [
    {
     "name": "stdout",
     "output_type": "stream",
     "text": [
      "Start test..\n",
      "test done...\n"
     ]
    }
   ],
   "source": [
    "predictions = test(model,test_datasetd)"
   ]
  },
  {
   "cell_type": "code",
   "execution_count": 34,
   "metadata": {},
   "outputs": [
    {
     "data": {
      "text/plain": [
       "(28000,)"
      ]
     },
     "execution_count": 34,
     "metadata": {},
     "output_type": "execute_result"
    }
   ],
   "source": [
    "predictions.shape"
   ]
  },
  {
   "cell_type": "code",
   "execution_count": 35,
   "metadata": {},
   "outputs": [],
   "source": [
    "results = pd.Series(predictions,name=\"Label\")"
   ]
  },
  {
   "cell_type": "code",
   "execution_count": 36,
   "metadata": {},
   "outputs": [
    {
     "data": {
      "text/plain": [
       "0        2\n",
       "1        0\n",
       "2        9\n",
       "3        0\n",
       "4        3\n",
       "        ..\n",
       "27995    9\n",
       "27996    7\n",
       "27997    3\n",
       "27998    9\n",
       "27999    2\n",
       "Name: Label, Length: 28000, dtype: int32"
      ]
     },
     "execution_count": 36,
     "metadata": {},
     "output_type": "execute_result"
    }
   ],
   "source": [
    "results"
   ]
  },
  {
   "cell_type": "code",
   "execution_count": 37,
   "metadata": {},
   "outputs": [],
   "source": [
    "submission = pd.concat([pd.Series(range(1,28001),name = \"ImageId\"),results],axis = 1)\n",
    "\n",
    "submission.to_csv(\"cnn_mnist_datagen.csv\",index=False)"
   ]
  }
 ],
 "metadata": {
  "kernelspec": {
   "display_name": "Python 3",
   "language": "python",
   "name": "python3"
  },
  "language_info": {
   "codemirror_mode": {
    "name": "ipython",
    "version": 3
   },
   "file_extension": ".py",
   "mimetype": "text/x-python",
   "name": "python",
   "nbconvert_exporter": "python",
   "pygments_lexer": "ipython3",
   "version": "3.7.6"
  }
 },
 "nbformat": 4,
 "nbformat_minor": 4
}
