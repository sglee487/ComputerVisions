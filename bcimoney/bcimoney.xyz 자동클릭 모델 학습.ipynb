{
 "cells": [
  {
   "cell_type": "code",
   "execution_count": 1,
   "metadata": {},
   "outputs": [],
   "source": [
    "import pyautogui"
   ]
  },
  {
   "cell_type": "code",
   "execution_count": 2,
   "metadata": {},
   "outputs": [],
   "source": [
    "import tensorflow as tf\n",
    "import os\n",
    "import matplotlib.pyplot as plt\n",
    "import numpy as np"
   ]
  },
  {
   "cell_type": "code",
   "execution_count": 3,
   "metadata": {},
   "outputs": [],
   "source": [
    "number_one = np.load('./numbers/number_one.npy')\n",
    "number_two = np.load('./numbers/number_two.npy')\n",
    "number_three = np.load('./numbers/number_three.npy')\n",
    "number_four = np.load('./numbers/number_four.npy')\n",
    "number_five = np.load('./numbers/number_five.npy')\n",
    "number_six = np.load('./numbers/number_six.npy')\n",
    "number_seven = np.load('./numbers/number_seven.npy')\n",
    "number_eight = np.load('./numbers/number_eight.npy')\n",
    "number_nine = np.load('./numbers/number_nine.npy')"
   ]
  },
  {
   "cell_type": "code",
   "execution_count": 4,
   "metadata": {},
   "outputs": [
    {
     "name": "stdout",
     "output_type": "stream",
     "text": [
      "(54, 31, 3)\n",
      "(54, 31, 3)\n",
      "(54, 31, 3)\n",
      "(54, 31, 3)\n",
      "(54, 31, 3)\n",
      "(54, 31, 3)\n",
      "(54, 31, 3)\n",
      "(54, 31, 3)\n",
      "(54, 31, 3)\n"
     ]
    }
   ],
   "source": [
    "print(number_one.shape)\n",
    "print(number_two.shape)\n",
    "print(number_three.shape)\n",
    "print(number_four.shape)\n",
    "print(number_five.shape)\n",
    "print(number_six.shape)\n",
    "print(number_seven.shape)\n",
    "print(number_eight.shape)\n",
    "print(number_nine.shape)"
   ]
  },
  {
   "cell_type": "code",
   "execution_count": 6,
   "metadata": {},
   "outputs": [],
   "source": [
    "image_1_extension = np.expand_dims(number_one,axis=0)\n",
    "image_2_extension = np.expand_dims(number_two,axis=0)\n",
    "image_3_extension = np.expand_dims(number_three,axis=0)\n",
    "image_4_extension = np.expand_dims(number_four,axis=0)\n",
    "image_5_extension = np.expand_dims(number_five,axis=0)\n",
    "image_6_extension = np.expand_dims(number_six,axis=0)\n",
    "image_7_extension = np.expand_dims(number_seven,axis=0)\n",
    "image_8_extension = np.expand_dims(number_eight,axis=0)\n",
    "image_9_extension = np.expand_dims(number_nine,axis=0)"
   ]
  },
  {
   "cell_type": "code",
   "execution_count": 7,
   "metadata": {},
   "outputs": [],
   "source": [
    "image_array = np.concatenate((image_1_extension,image_2_extension),axis=0)\n",
    "image_array = np.concatenate((image_array,image_3_extension),axis=0)\n",
    "image_array = np.concatenate((image_array,image_4_extension),axis=0)\n",
    "image_array = np.concatenate((image_array,image_5_extension),axis=0)\n",
    "image_array = np.concatenate((image_array,image_6_extension),axis=0)\n",
    "image_array = np.concatenate((image_array,image_7_extension),axis=0)\n",
    "image_array = np.concatenate((image_array,image_8_extension),axis=0)\n",
    "image_array = np.concatenate((image_array,image_9_extension),axis=0)"
   ]
  },
  {
   "cell_type": "code",
   "execution_count": 8,
   "metadata": {},
   "outputs": [],
   "source": [
    "image_array = tf.image.resize(image_array,(54,31))"
   ]
  },
  {
   "cell_type": "code",
   "execution_count": 9,
   "metadata": {},
   "outputs": [
    {
     "data": {
      "text/plain": [
       "TensorShape([9, 54, 31, 3])"
      ]
     },
     "execution_count": 9,
     "metadata": {},
     "output_type": "execute_result"
    }
   ],
   "source": [
    "image_array.shape"
   ]
  },
  {
   "cell_type": "code",
   "execution_count": 10,
   "metadata": {},
   "outputs": [],
   "source": [
    "num_classes = 9\n",
    "batch_size = 1"
   ]
  },
  {
   "cell_type": "code",
   "execution_count": 11,
   "metadata": {},
   "outputs": [],
   "source": [
    "label = [i for i in range(0,9)]\n",
    "label = tf.one_hot(label,num_classes)"
   ]
  },
  {
   "cell_type": "code",
   "execution_count": 12,
   "metadata": {},
   "outputs": [
    {
     "name": "stdout",
     "output_type": "stream",
     "text": [
      "9\n",
      "<BatchDataset shapes: ((None, 54, 31, 3), (None, 9)), types: (tf.float32, tf.float32)>\n"
     ]
    }
   ],
   "source": [
    "train_dataset = tf.data.Dataset.from_tensor_slices((image_array,label))\n",
    "train_dataset = train_dataset.shuffle(len(list(train_dataset))) # over or equal than dataset number\n",
    "print(len(list(train_dataset)))\n",
    "train_dataset = train_dataset.batch(batch_size)\n",
    "\n",
    "print(train_dataset)"
   ]
  },
  {
   "cell_type": "code",
   "execution_count": 13,
   "metadata": {},
   "outputs": [],
   "source": [
    "class Conv(tf.keras.Model):\n",
    "    def __init__(self, num_filters, kernel_size):\n",
    "        super(Conv, self).__init__()\n",
    "        ## 코드 시작 ##\n",
    "        self.conv = tf.keras.layers.Conv2D(filters=num_filters,kernel_size=[kernel_size, kernel_size],padding='Same')\n",
    "        self.bn = tf.keras.layers.BatchNormalization()\n",
    "        self.relu = tf.keras.layers.ReLU()\n",
    "        self.pool = tf.keras.layers.MaxPool2D(pool_size=(2,2))\n",
    "        self.dropout = tf.keras.layers.Dropout(0.25)\n",
    "        ## 코드 종료 ##\n",
    "\n",
    "    def call(self, inputs, training=True):\n",
    "        ## 코드 시작 ##\n",
    "        x = self.conv(inputs)    # self.conv forward\n",
    "        x = self.bn(x)    # self.bn   forward\n",
    "        x = self.relu(x)    # self.relu forward\n",
    "        x = self.pool(x)    # self.pool forward\n",
    "        x = self.dropout(x)\n",
    "        ## 코드 종료 ##\n",
    "\n",
    "        return x"
   ]
  },
  {
   "cell_type": "code",
   "execution_count": 14,
   "metadata": {},
   "outputs": [],
   "source": [
    "class SimpleCNN(tf.keras.Model):\n",
    "    def __init__(self):\n",
    "        super(SimpleCNN, self).__init__()\n",
    "        ## 코드 시작 ##\n",
    "        self.conv1 = Conv(32,5)\n",
    "        self.conv2 = Conv(64,3)\n",
    "\n",
    "        self.flatten = tf.keras.layers.Flatten()\n",
    "        self.dense1 = tf.keras.layers.Dense(units=256,activation=tf.nn.relu)\n",
    "        self.dropout = tf.keras.layers.Dropout(0.25)\n",
    "        self.dense2 = tf.keras.layers.Dense(units=num_classes,activation=tf.nn.softmax)\n",
    "        ## 코드 종료 ##\n",
    "\n",
    "    def call(self, inputs, training=True):\n",
    "        ## 코드 시작 ##\n",
    "        x = self.conv1(inputs)    # self.conv1 forward\n",
    "        x = self.conv2(x)    # self.conv2 forward\n",
    "        x = self.flatten(x)    # flatten \n",
    "        x = self.dense1(x)    # self.dense1 forward\n",
    "        x = self.dropout(x)\n",
    "        x = self.dense2(x)    # self.dense2 forward\n",
    "        ## 코드 종료 ##\n",
    "\n",
    "        return x"
   ]
  },
  {
   "cell_type": "code",
   "execution_count": 15,
   "metadata": {},
   "outputs": [
    {
     "name": "stdout",
     "output_type": "stream",
     "text": [
      "(1, 54, 31, 3)\n",
      "Model: \"simple_cnn\"\n",
      "_________________________________________________________________\n",
      "Layer (type)                 Output Shape              Param #   \n",
      "=================================================================\n",
      "conv (Conv)                  multiple                  2560      \n",
      "_________________________________________________________________\n",
      "conv_1 (Conv)                multiple                  18752     \n",
      "_________________________________________________________________\n",
      "flatten (Flatten)            multiple                  0         \n",
      "_________________________________________________________________\n",
      "dense (Dense)                multiple                  1491200   \n",
      "_________________________________________________________________\n",
      "dropout_2 (Dropout)          multiple                  0         \n",
      "_________________________________________________________________\n",
      "dense_1 (Dense)              multiple                  2313      \n",
      "=================================================================\n",
      "Total params: 1,514,825\n",
      "Trainable params: 1,514,633\n",
      "Non-trainable params: 192\n",
      "_________________________________________________________________\n"
     ]
    }
   ],
   "source": [
    "model = SimpleCNN()\n",
    "for images, labels in train_dataset.take(1):\n",
    "    print(images.shape)\n",
    "    outputs = model(images, training=False)\n",
    "model.summary()"
   ]
  },
  {
   "cell_type": "code",
   "execution_count": 16,
   "metadata": {},
   "outputs": [],
   "source": [
    "optimizer = tf.keras.optimizers.RMSprop(lr=0.001, rho=0.9, epsilon=1e-08, decay=0.0)\n",
    "model.compile(optimizer=optimizer, loss=\"categorical_crossentropy\")"
   ]
  },
  {
   "cell_type": "code",
   "execution_count": 17,
   "metadata": {},
   "outputs": [
    {
     "name": "stdout",
     "output_type": "stream",
     "text": [
      "Train for 9 steps\n",
      "Epoch 1/145\n",
      "9/9 [==============================] - 1s 75ms/step - loss: 18.6524\n",
      "Epoch 2/145\n",
      "9/9 [==============================] - 0s 5ms/step - loss: 10.5028\n",
      "Epoch 3/145\n",
      "9/9 [==============================] - 0s 5ms/step - loss: 5.8992\n",
      "Epoch 4/145\n",
      "9/9 [==============================] - 0s 5ms/step - loss: 3.0621\n",
      "Epoch 5/145\n",
      "9/9 [==============================] - 0s 5ms/step - loss: 2.1244\n",
      "Epoch 6/145\n",
      "9/9 [==============================] - 0s 5ms/step - loss: 1.0216\n",
      "Epoch 7/145\n",
      "9/9 [==============================] - 0s 5ms/step - loss: 0.3605\n",
      "Epoch 8/145\n",
      "9/9 [==============================] - 0s 5ms/step - loss: 0.2772\n",
      "Epoch 9/145\n",
      "9/9 [==============================] - 0s 5ms/step - loss: 0.4046\n",
      "Epoch 10/145\n",
      "9/9 [==============================] - 0s 5ms/step - loss: 0.0304\n",
      "Epoch 11/145\n",
      "9/9 [==============================] - 0s 5ms/step - loss: 1.8231\n",
      "Epoch 12/145\n",
      "9/9 [==============================] - 0s 5ms/step - loss: 0.1144\n",
      "Epoch 13/145\n",
      "9/9 [==============================] - 0s 5ms/step - loss: 1.1388\n",
      "Epoch 14/145\n",
      "9/9 [==============================] - 0s 5ms/step - loss: 0.0038\n",
      "Epoch 15/145\n",
      "9/9 [==============================] - 0s 5ms/step - loss: 0.0440\n",
      "Epoch 16/145\n",
      "9/9 [==============================] - 0s 5ms/step - loss: 0.0054\n",
      "Epoch 17/145\n",
      "9/9 [==============================] - 0s 5ms/step - loss: 0.0192\n",
      "Epoch 18/145\n",
      "9/9 [==============================] - 0s 5ms/step - loss: 2.7817e-04\n",
      "Epoch 19/145\n",
      "9/9 [==============================] - 0s 5ms/step - loss: 7.8478e-04\n",
      "Epoch 20/145\n",
      "9/9 [==============================] - 0s 5ms/step - loss: 9.5952e-04\n",
      "Epoch 21/145\n",
      "9/9 [==============================] - 0s 5ms/step - loss: 0.0015\n",
      "Epoch 22/145\n",
      "9/9 [==============================] - 0s 5ms/step - loss: 1.8477e-05\n",
      "Epoch 23/145\n",
      "9/9 [==============================] - 0s 5ms/step - loss: 2.8845e-05\n",
      "Epoch 24/145\n",
      "9/9 [==============================] - 0s 5ms/step - loss: 7.2538e-05\n",
      "Epoch 25/145\n",
      "9/9 [==============================] - 0s 5ms/step - loss: 1.7749e-06\n",
      "Epoch 26/145\n",
      "9/9 [==============================] - 0s 5ms/step - loss: 1.1788e-05\n",
      "Epoch 27/145\n",
      "9/9 [==============================] - 0s 5ms/step - loss: 9.8016e-07\n",
      "Epoch 28/145\n",
      "9/9 [==============================] - ETA: 0s - loss: 0.0000e+0 - 0s 5ms/step - loss: 5.1291e-05\n",
      "Epoch 29/145\n",
      "9/9 [==============================] - 0s 5ms/step - loss: 0.0017\n",
      "Epoch 30/145\n",
      "9/9 [==============================] - 0s 5ms/step - loss: 0.1591\n",
      "Epoch 31/145\n",
      "9/9 [==============================] - 0s 5ms/step - loss: 5.7768e-04\n",
      "Epoch 32/145\n",
      "9/9 [==============================] - 0s 5ms/step - loss: 8.2903e-04\n",
      "Epoch 33/145\n",
      "9/9 [==============================] - 0s 5ms/step - loss: 5.6081e-05\n",
      "Epoch 34/145\n",
      "9/9 [==============================] - 0s 5ms/step - loss: 0.0228\n",
      "Epoch 35/145\n",
      "9/9 [==============================] - 0s 5ms/step - loss: 7.4142e-04\n",
      "Epoch 36/145\n",
      "9/9 [==============================] - 0s 5ms/step - loss: 1.5595e-04\n",
      "Epoch 37/145\n",
      "9/9 [==============================] - 0s 5ms/step - loss: 7.5016e-05\n",
      "Epoch 38/145\n",
      "9/9 [==============================] - 0s 6ms/step - loss: 1.6689e-06\n",
      "Epoch 39/145\n",
      "9/9 [==============================] - 0s 5ms/step - loss: 1.1921e-07\n",
      "Epoch 40/145\n",
      "9/9 [==============================] - 0s 5ms/step - loss: 3.8392e-05\n",
      "Epoch 41/145\n",
      "9/9 [==============================] - 0s 5ms/step - loss: 1.0596e-07\n",
      "Epoch 42/145\n",
      "9/9 [==============================] - 0s 5ms/step - loss: 5.8941e-06\n",
      "Epoch 43/145\n",
      "9/9 [==============================] - 0s 5ms/step - loss: 0.0097\n",
      "Epoch 44/145\n",
      "9/9 [==============================] - 0s 5ms/step - loss: 0.0000e+00\n",
      "Epoch 45/145\n",
      "9/9 [==============================] - 0s 5ms/step - loss: 4.7594e-05\n",
      "Epoch 46/145\n",
      "9/9 [==============================] - 0s 5ms/step - loss: 3.3511e-06\n",
      "Epoch 47/145\n",
      "9/9 [==============================] - 0s 6ms/step - loss: 0.0000e+00\n",
      "Epoch 48/145\n",
      "9/9 [==============================] - 0s 5ms/step - loss: 1.3245e-08\n",
      "Epoch 49/145\n",
      "9/9 [==============================] - 0s 5ms/step - loss: 2.6491e-08\n",
      "Epoch 50/145\n",
      "9/9 [==============================] - 0s 5ms/step - loss: 1.1921e-07\n",
      "Epoch 51/145\n",
      "9/9 [==============================] - 0s 5ms/step - loss: 0.0000e+00\n",
      "Epoch 52/145\n",
      "9/9 [==============================] - 0s 5ms/step - loss: 2.2517e-07\n",
      "Epoch 53/145\n",
      "9/9 [==============================] - 0s 5ms/step - loss: 0.0000e+00\n",
      "Epoch 54/145\n",
      "9/9 [==============================] - 0s 5ms/step - loss: 1.3245e-08\n",
      "Epoch 55/145\n",
      "9/9 [==============================] - 0s 5ms/step - loss: 0.0000e+00\n",
      "Epoch 56/145\n",
      "9/9 [==============================] - 0s 5ms/step - loss: 0.0000e+00\n",
      "Epoch 57/145\n",
      "9/9 [==============================] - 0s 5ms/step - loss: 1.5497e-06\n",
      "Epoch 58/145\n",
      "9/9 [==============================] - 0s 5ms/step - loss: 0.0000e+00\n",
      "Epoch 59/145\n",
      "9/9 [==============================] - 0s 5ms/step - loss: 2.6093e-06\n",
      "Epoch 60/145\n",
      "9/9 [==============================] - 0s 5ms/step - loss: 0.0000e+00\n",
      "Epoch 61/145\n",
      "9/9 [==============================] - ETA: 0s - loss: 0.0000e+0 - 0s 5ms/step - loss: 3.4540e-05\n",
      "Epoch 62/145\n",
      "9/9 [==============================] - 0s 5ms/step - loss: 3.3114e-07\n",
      "Epoch 63/145\n",
      "9/9 [==============================] - 0s 5ms/step - loss: 2.8432e-04\n",
      "Epoch 64/145\n",
      "9/9 [==============================] - 0s 5ms/step - loss: 1.3245e-07\n",
      "Epoch 65/145\n",
      "9/9 [==============================] - 0s 5ms/step - loss: 0.0000e+00\n",
      "Epoch 66/145\n",
      "9/9 [==============================] - 0s 5ms/step - loss: 1.1788e-06\n",
      "Epoch 67/145\n",
      "9/9 [==============================] - 0s 6ms/step - loss: 2.6491e-08\n",
      "Epoch 68/145\n",
      "9/9 [==============================] - 0s 6ms/step - loss: 7.4702e-06\n",
      "Epoch 69/145\n",
      "9/9 [==============================] - 0s 6ms/step - loss: 0.0000e+00\n",
      "Epoch 70/145\n",
      "9/9 [==============================] - 0s 6ms/step - loss: 1.3245e-08\n",
      "Epoch 71/145\n",
      "9/9 [==============================] - 0s 5ms/step - loss: 0.0010\n",
      "Epoch 72/145\n",
      "9/9 [==============================] - 0s 5ms/step - loss: 1.3245e-06\n",
      "Epoch 73/145\n",
      "9/9 [==============================] - 0s 5ms/step - loss: 0.0000e+00\n",
      "Epoch 74/145\n",
      "9/9 [==============================] - 0s 5ms/step - loss: 0.0000e+00\n",
      "Epoch 75/145\n",
      "9/9 [==============================] - 0s 5ms/step - loss: 3.5763e-07\n",
      "Epoch 76/145\n",
      "9/9 [==============================] - 0s 5ms/step - loss: 0.0000e+00\n",
      "Epoch 77/145\n",
      "9/9 [==============================] - 0s 6ms/step - loss: 0.0000e+00\n",
      "Epoch 78/145\n",
      "9/9 [==============================] - 0s 6ms/step - loss: 0.0000e+00\n",
      "Epoch 79/145\n",
      "9/9 [==============================] - 0s 6ms/step - loss: 0.0000e+00\n",
      "Epoch 80/145\n",
      "9/9 [==============================] - 0s 7ms/step - loss: 0.0000e+00\n",
      "Epoch 81/145\n",
      "9/9 [==============================] - 0s 5ms/step - loss: 0.0000e+00\n",
      "Epoch 82/145\n",
      "9/9 [==============================] - 0s 5ms/step - loss: 7.0201e-07\n",
      "Epoch 83/145\n",
      "9/9 [==============================] - 0s 5ms/step - loss: 1.2564e-04\n",
      "Epoch 84/145\n",
      "9/9 [==============================] - 0s 5ms/step - loss: 0.0000e+00\n",
      "Epoch 85/145\n",
      "9/9 [==============================] - 0s 6ms/step - loss: 5.9604e-07\n",
      "Epoch 86/145\n",
      "9/9 [==============================] - 0s 6ms/step - loss: 0.0000e+00\n",
      "Epoch 87/145\n",
      "9/9 [==============================] - 0s 6ms/step - loss: 0.0000e+00\n",
      "Epoch 88/145\n",
      "9/9 [==============================] - 0s 6ms/step - loss: 0.0000e+00\n",
      "Epoch 89/145\n",
      "9/9 [==============================] - 0s 5ms/step - loss: 0.0000e+00\n",
      "Epoch 90/145\n",
      "9/9 [==============================] - 0s 5ms/step - loss: 0.0000e+00\n",
      "Epoch 91/145\n",
      "9/9 [==============================] - 0s 5ms/step - loss: 1.3245e-08\n",
      "Epoch 92/145\n",
      "9/9 [==============================] - 0s 5ms/step - loss: 0.0000e+00\n",
      "Epoch 93/145\n",
      "9/9 [==============================] - 0s 6ms/step - loss: 0.0000e+00\n",
      "Epoch 94/145\n",
      "9/9 [==============================] - 0s 6ms/step - loss: 2.6491e-08\n",
      "Epoch 95/145\n",
      "9/9 [==============================] - 0s 6ms/step - loss: 0.0000e+00\n",
      "Epoch 96/145\n",
      "9/9 [==============================] - 0s 5ms/step - loss: 0.0000e+00\n",
      "Epoch 97/145\n",
      "9/9 [==============================] - 0s 5ms/step - loss: 0.0000e+00\n",
      "Epoch 98/145\n",
      "9/9 [==============================] - 0s 5ms/step - loss: 0.0000e+00\n",
      "Epoch 99/145\n",
      "9/9 [==============================] - 0s 5ms/step - loss: 0.0000e+00\n"
     ]
    },
    {
     "name": "stdout",
     "output_type": "stream",
     "text": [
      "Epoch 100/145\n",
      "9/9 [==============================] - 0s 5ms/step - loss: 0.0000e+00\n",
      "Epoch 101/145\n",
      "9/9 [==============================] - 0s 5ms/step - loss: 0.0000e+00\n",
      "Epoch 102/145\n",
      "9/9 [==============================] - 0s 5ms/step - loss: 0.0000e+00\n",
      "Epoch 103/145\n",
      "9/9 [==============================] - 0s 6ms/step - loss: 0.0000e+00\n",
      "Epoch 104/145\n",
      "9/9 [==============================] - 0s 6ms/step - loss: 0.0000e+00\n",
      "Epoch 105/145\n",
      "9/9 [==============================] - 0s 6ms/step - loss: 2.5166e-07\n",
      "Epoch 106/145\n",
      "9/9 [==============================] - 0s 5ms/step - loss: 0.0000e+00\n",
      "Epoch 107/145\n",
      "9/9 [==============================] - 0s 5ms/step - loss: 0.0000e+00\n",
      "Epoch 108/145\n",
      "9/9 [==============================] - 0s 5ms/step - loss: 6.7552e-07\n",
      "Epoch 109/145\n",
      "9/9 [==============================] - 0s 5ms/step - loss: 2.3842e-07\n",
      "Epoch 110/145\n",
      "9/9 [==============================] - 0s 5ms/step - loss: 0.0000e+00\n",
      "Epoch 111/145\n",
      "9/9 [==============================] - 0s 5ms/step - loss: 1.8544e-07\n",
      "Epoch 112/145\n",
      "9/9 [==============================] - 0s 5ms/step - loss: 1.9736e-06\n",
      "Epoch 113/145\n",
      "9/9 [==============================] - 0s 5ms/step - loss: 0.0000e+00\n",
      "Epoch 114/145\n",
      "9/9 [==============================] - 0s 5ms/step - loss: 1.1921e-07\n",
      "Epoch 115/145\n",
      "9/9 [==============================] - 0s 5ms/step - loss: 0.0000e+00\n",
      "Epoch 116/145\n",
      "9/9 [==============================] - 0s 5ms/step - loss: 0.0000e+00\n",
      "Epoch 117/145\n",
      "9/9 [==============================] - 0s 5ms/step - loss: 0.0000e+00\n",
      "Epoch 118/145\n",
      "9/9 [==============================] - 0s 5ms/step - loss: 0.0000e+00\n",
      "Epoch 119/145\n",
      "9/9 [==============================] - 0s 5ms/step - loss: 0.0000e+00\n",
      "Epoch 120/145\n",
      "9/9 [==============================] - 0s 5ms/step - loss: 0.0000e+00\n",
      "Epoch 121/145\n",
      "9/9 [==============================] - 0s 5ms/step - loss: 0.0000e+00\n",
      "Epoch 122/145\n",
      "9/9 [==============================] - 0s 5ms/step - loss: 0.0000e+00\n",
      "Epoch 123/145\n",
      "9/9 [==============================] - 0s 5ms/step - loss: 0.0000e+00\n",
      "Epoch 124/145\n",
      "9/9 [==============================] - 0s 5ms/step - loss: 0.0000e+00\n",
      "Epoch 125/145\n",
      "9/9 [==============================] - 0s 5ms/step - loss: 0.0000e+00\n",
      "Epoch 126/145\n",
      "9/9 [==============================] - 0s 5ms/step - loss: 0.0000e+00\n",
      "Epoch 127/145\n",
      "9/9 [==============================] - 0s 5ms/step - loss: 0.0000e+00\n",
      "Epoch 128/145\n",
      "9/9 [==============================] - 0s 5ms/step - loss: 0.0000e+00\n",
      "Epoch 129/145\n",
      "9/9 [==============================] - 0s 5ms/step - loss: 0.0000e+00\n",
      "Epoch 130/145\n",
      "9/9 [==============================] - 0s 6ms/step - loss: 0.0000e+00\n",
      "Epoch 131/145\n",
      "9/9 [==============================] - 0s 6ms/step - loss: 2.6491e-08\n",
      "Epoch 132/145\n",
      "9/9 [==============================] - 0s 6ms/step - loss: 0.0000e+00\n",
      "Epoch 133/145\n",
      "9/9 [==============================] - 0s 5ms/step - loss: 0.0000e+00\n",
      "Epoch 134/145\n",
      "9/9 [==============================] - 0s 5ms/step - loss: 0.0000e+00\n",
      "Epoch 135/145\n",
      "9/9 [==============================] - 0s 5ms/step - loss: 0.0000e+00\n",
      "Epoch 136/145\n",
      "9/9 [==============================] - 0s 5ms/step - loss: 0.0000e+00\n",
      "Epoch 137/145\n",
      "9/9 [==============================] - 0s 5ms/step - loss: 0.0000e+00\n",
      "Epoch 138/145\n",
      "9/9 [==============================] - 0s 6ms/step - loss: 0.0000e+00\n",
      "Epoch 139/145\n",
      "9/9 [==============================] - 0s 5ms/step - loss: 0.0000e+00\n",
      "Epoch 140/145\n",
      "9/9 [==============================] - 0s 5ms/step - loss: 0.0000e+00\n",
      "Epoch 141/145\n",
      "9/9 [==============================] - 0s 5ms/step - loss: 0.0000e+00\n",
      "Epoch 142/145\n",
      "9/9 [==============================] - 0s 5ms/step - loss: 0.0000e+00\n",
      "Epoch 143/145\n",
      "9/9 [==============================] - 0s 6ms/step - loss: 0.0000e+00\n",
      "Epoch 144/145\n",
      "9/9 [==============================] - 0s 6ms/step - loss: 0.0000e+00\n",
      "Epoch 145/145\n",
      "9/9 [==============================] - 0s 6ms/step - loss: 0.0000e+00\n"
     ]
    }
   ],
   "source": [
    "outputs = model.fit(train_dataset,epochs=145,verbose=1)"
   ]
  },
  {
   "cell_type": "code",
   "execution_count": 23,
   "metadata": {},
   "outputs": [],
   "source": [
    "model.save_weights(os.path.join('./trained_model/my_model_bcimoneydigit'))"
   ]
  },
  {
   "cell_type": "code",
   "execution_count": 18,
   "metadata": {},
   "outputs": [],
   "source": [
    "result1 = model(image_array[0:5])"
   ]
  },
  {
   "cell_type": "code",
   "execution_count": 19,
   "metadata": {},
   "outputs": [
    {
     "name": "stdout",
     "output_type": "stream",
     "text": [
      "[1 2 3 4 5]\n"
     ]
    }
   ],
   "source": [
    "print(np.argmax(result1,axis=1)+1)"
   ]
  },
  {
   "cell_type": "code",
   "execution_count": 20,
   "metadata": {},
   "outputs": [
    {
     "data": {
      "image/png": "[encoded data removed]",
      "text/plain": [
       "<Figure size 360x360 with 9 Axes>"
      ]
     },
     "metadata": {
      "needs_background": "light"
     },
     "output_type": "display_data"
    }
   ],
   "source": [
    "labels_map = {1:\"1\",2:\"2\",3:\"3\",4:\"4\",5:\"5\",6:\"6\",7:\"7\",8:\"8\",9:\"9\"}\n",
    "\n",
    "predict = model(image_array, training=False)\n",
    "real_label = [i for i in range(1,10)]\n",
    "\n",
    "fig = plt.figure(figsize=(5, 5))\n",
    "for i, (pre, label, image) in enumerate(zip(predict, real_label, image_array)):\n",
    "    p = fig.add_subplot(2, 5, i+1)\n",
    "    if np.argmax(pre)+1 == label:\n",
    "        p.set_title(\"{}\".format(labels_map[label]), color='blue')\n",
    "    else:\n",
    "        p.set_title(\"{}/{}\".format(labels_map[np.argmax(pre)+1],\n",
    "                                   labels_map[label]), color='red')\n",
    "    p.imshow(image)\n",
    "    p.axis('off')"
   ]
  },
  {
   "cell_type": "code",
   "execution_count": 22,
   "metadata": {},
   "outputs": [
    {
     "name": "stdout",
     "output_type": "stream",
     "text": [
      "WARNING:tensorflow:Layer simple_cnn is casting an input tensor from dtype float64 to the layer's dtype of float32, which is new behavior in TensorFlow 2.  The layer has dtype float32 because it's dtype defaults to floatx.\n",
      "\n",
      "If you intended to run this layer in float32, you can safely ignore this warning. If in doubt, this warning is likely only an issue if you are porting a TensorFlow 1.X model to TensorFlow 2.\n",
      "\n",
      "To change all layers to have dtype float64 by default, call `tf.keras.backend.set_floatx('float64')`. To change just this layer, pass dtype='float64' to the layer constructor. If you are the author of this layer, you can disable autocasting by passing autocast=False to the base Layer constructor.\n",
      "\n",
      "tf.Tensor(\n",
      "[[1.0000000e+00 6.1135103e-15 1.8190143e-12 1.4345557e-11 1.3892640e-10\n",
      "  4.7152085e-14 3.0130607e-12 6.8093128e-11 1.2060963e-12]\n",
      " [9.0501532e-30 1.3092176e-27 1.4027485e-35 1.0000000e+00 3.4485966e-32\n",
      "  5.3367982e-29 3.2573452e-29 6.2391447e-26 4.9382880e-31]\n",
      " [1.0000000e+00 2.8955252e-17 1.2264982e-14 1.3131953e-14 1.6531511e-12\n",
      "  1.8620852e-14 1.4731128e-13 1.1506780e-13 1.0045771e-14]], shape=(3, 9), dtype=float32)\n",
      "[1 4 1]\n"
     ]
    },
    {
     "data": {
      "image/png": "[encoded data removed]",
      "text/plain": [
       "<Figure size 360x360 with 3 Axes>"
      ]
     },
     "metadata": {
      "needs_background": "light"
     },
     "output_type": "display_data"
    }
   ],
   "source": [
    "im = pyautogui.screenshot(region=(1000,278, 105, 54))\n",
    "\n",
    "all_number = np.array(im)\n",
    "\n",
    "first_number = all_number[:,0:31]/255.\n",
    "second_number = all_number[:,37:68]/255.\n",
    "third_number = all_number[:,71:102]/255.\n",
    "\n",
    "fig = plt.figure(figsize=(5, 5))\n",
    "p = fig.add_subplot(1, 3, 1)\n",
    "p.imshow(first_number)\n",
    "p = fig.add_subplot(1, 3, 2)\n",
    "p.imshow(second_number)\n",
    "p = fig.add_subplot(1, 3, 3)\n",
    "p.imshow(third_number)\n",
    "\n",
    "first_number_extension = np.expand_dims(first_number,axis=0)\n",
    "second_number_extension = np.expand_dims(second_number,axis=0)\n",
    "third_number_extension = np.expand_dims(third_number,axis=0)\n",
    "\n",
    "number_array = np.concatenate((first_number_extension,second_number_extension),axis=0)\n",
    "number_array = np.concatenate((number_array,third_number_extension),axis=0)\n",
    "\n",
    "result = model(number_array[0:3])\n",
    "\n",
    "print(result)\n",
    "\n",
    "print(np.argmax(result,axis=1)+1)"
   ]
  }
 ],
 "metadata": {
  "kernelspec": {
   "display_name": "Python 3",
   "language": "python",
   "name": "python3"
  },
  "language_info": {
   "codemirror_mode": {
    "name": "ipython",
    "version": 3
   },
   "file_extension": ".py",
   "mimetype": "text/x-python",
   "name": "python",
   "nbconvert_exporter": "python",
   "pygments_lexer": "ipython3",
   "version": "3.7.6"
  }
 },
 "nbformat": 4,
 "nbformat_minor": 4
}
