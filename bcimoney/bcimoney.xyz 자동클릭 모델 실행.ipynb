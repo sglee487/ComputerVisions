{
 "cells": [
  {
   "cell_type": "markdown",
   "metadata": {},
   "source": [
    "http://blog.naver.com/PostView.nhn?blogId=htblog&logNo=221510551432&parentCategoryNo=&categoryNo=99&viewDate=&isShowPopularPosts=true&from=search"
   ]
  },
  {
   "cell_type": "code",
   "execution_count": 7,
   "metadata": {},
   "outputs": [],
   "source": [
    "import tensorflow as tf\n",
    "import os\n",
    "import matplotlib.pyplot as plt\n",
    "import numpy as np\n",
    "\n",
    "import pyautogui"
   ]
  },
  {
   "cell_type": "code",
   "execution_count": 8,
   "metadata": {},
   "outputs": [],
   "source": [
    "class Conv(tf.keras.Model):\n",
    "    def __init__(self, num_filters, kernel_size):\n",
    "        super(Conv, self).__init__()\n",
    "        ## 코드 시작 ##\n",
    "        self.conv = tf.keras.layers.Conv2D(filters=num_filters,kernel_size=[kernel_size, kernel_size],padding='Same')\n",
    "        self.bn = tf.keras.layers.BatchNormalization()\n",
    "        self.relu = tf.keras.layers.ReLU()\n",
    "        self.pool = tf.keras.layers.MaxPool2D(pool_size=(2,2))\n",
    "        self.dropout = tf.keras.layers.Dropout(0.25)\n",
    "        ## 코드 종료 ##\n",
    "\n",
    "    def call(self, inputs, training=True):\n",
    "        ## 코드 시작 ##\n",
    "        x = self.conv(inputs)    # self.conv forward\n",
    "        x = self.bn(x)    # self.bn   forward\n",
    "        x = self.relu(x)    # self.relu forward\n",
    "        x = self.pool(x)    # self.pool forward\n",
    "        x = self.dropout(x)\n",
    "        ## 코드 종료 ##\n",
    "\n",
    "        return x"
   ]
  },
  {
   "cell_type": "code",
   "execution_count": 9,
   "metadata": {},
   "outputs": [],
   "source": [
    "class SimpleCNN(tf.keras.Model):\n",
    "    def __init__(self):\n",
    "        super(SimpleCNN, self).__init__()\n",
    "        ## 코드 시작 ##\n",
    "        self.conv1 = Conv(32,5)\n",
    "        self.conv2 = Conv(64,3)\n",
    "\n",
    "        self.flatten = tf.keras.layers.Flatten()\n",
    "        self.dense1 = tf.keras.layers.Dense(units=256,activation=tf.nn.relu)\n",
    "        self.dropout = tf.keras.layers.Dropout(0.25)\n",
    "        self.dense2 = tf.keras.layers.Dense(units=num_classes,activation=tf.nn.softmax)\n",
    "        ## 코드 종료 ##\n",
    "\n",
    "    def call(self, inputs, training=True):\n",
    "        ## 코드 시작 ##\n",
    "        x = self.conv1(inputs)    # self.conv1 forward\n",
    "        x = self.conv2(x)    # self.conv2 forward\n",
    "        x = self.flatten(x)    # flatten \n",
    "        x = self.dense1(x)    # self.dense1 forward\n",
    "        x = self.dropout(x)\n",
    "        x = self.dense2(x)    # self.dense2 forward\n",
    "        ## 코드 종료 ##\n",
    "\n",
    "        return x"
   ]
  },
  {
   "cell_type": "code",
   "execution_count": 10,
   "metadata": {},
   "outputs": [
    {
     "data": {
      "text/plain": [
       "<tensorflow.python.training.tracking.util.CheckpointLoadStatus at 0x256438940c8>"
      ]
     },
     "execution_count": 10,
     "metadata": {},
     "output_type": "execute_result"
    }
   ],
   "source": [
    "num_classes=9\n",
    "\n",
    "model = SimpleCNN()\n",
    "model.load_weights(tf.train.latest_checkpoint('./trained_model'))"
   ]
  },
  {
   "cell_type": "code",
   "execution_count": 11,
   "metadata": {},
   "outputs": [
    {
     "name": "stdout",
     "output_type": "stream",
     "text": [
      "WARNING:tensorflow:Layer simple_cnn_1 is casting an input tensor from dtype float64 to the layer's dtype of float32, which is new behavior in TensorFlow 2.  The layer has dtype float32 because it's dtype defaults to floatx.\n",
      "\n",
      "If you intended to run this layer in float32, you can safely ignore this warning. If in doubt, this warning is likely only an issue if you are porting a TensorFlow 1.X model to TensorFlow 2.\n",
      "\n",
      "To change all layers to have dtype float64 by default, call `tf.keras.backend.set_floatx('float64')`. To change just this layer, pass dtype='float64' to the layer constructor. If you are the author of this layer, you can disable autocasting by passing autocast=False to the base Layer constructor.\n",
      "\n",
      "tf.Tensor(\n",
      "[[3.3575664e-29 4.1728567e-29 3.7809284e-26 1.1586947e-28 1.8203157e-31\n",
      "  3.5494332e-31 1.0000000e+00 1.1156790e-29 1.2551712e-30]\n",
      " [9.0501532e-30 1.3092176e-27 1.4027485e-35 1.0000000e+00 3.4485966e-32\n",
      "  5.3367982e-29 3.2573452e-29 6.2391447e-26 4.9382880e-31]\n",
      " [7.6161258e-11 2.0908394e-12 3.4642053e-11 6.9736168e-09 5.2398685e-10\n",
      "  2.1500775e-13 4.8477249e-09 1.0000000e+00 1.5023252e-09]], shape=(3, 9), dtype=float32)\n",
      "[7 4 8]\n"
     ]
    },
    {
     "data": {
      "image/png": "[encoded data removed]",
      "text/plain": [
       "<Figure size 360x360 with 3 Axes>"
      ]
     },
     "metadata": {
      "needs_background": "light"
     },
     "output_type": "display_data"
    }
   ],
   "source": [
    "im = pyautogui.screenshot(region=(1000,278, 105, 54))\n",
    "\n",
    "all_number = np.array(im)\n",
    "\n",
    "first_number = all_number[:,1:32]/255.\n",
    "second_number = all_number[:,37:68]/255.\n",
    "third_number = all_number[:,71:102]/255.\n",
    "\n",
    "fig = plt.figure(figsize=(5, 5))\n",
    "p = fig.add_subplot(1, 3, 1)\n",
    "p.imshow(first_number)\n",
    "p = fig.add_subplot(1, 3, 2)\n",
    "p.imshow(second_number)\n",
    "p = fig.add_subplot(1, 3, 3)\n",
    "p.imshow(third_number)\n",
    "\n",
    "first_number_extension = np.expand_dims(first_number,axis=0)\n",
    "second_number_extension = np.expand_dims(second_number,axis=0)\n",
    "third_number_extension = np.expand_dims(third_number,axis=0)\n",
    "\n",
    "number_array = np.concatenate((first_number_extension,second_number_extension),axis=0)\n",
    "number_array = np.concatenate((number_array,third_number_extension),axis=0)\n",
    "\n",
    "result = model(number_array[0:3])\n",
    "\n",
    "print(result)\n",
    "\n",
    "print(np.argmax(result,axis=1)+1)"
   ]
  },
  {
   "cell_type": "code",
   "execution_count": 6,
   "metadata": {},
   "outputs": [
    {
     "name": "stdout",
     "output_type": "stream",
     "text": [
      "detect and input will begin in 3 seconds..\n",
      "3 second remaining...\n",
      "2 second remaining...\n",
      "1 second remaining...\n"
     ]
    }
   ],
   "source": [
    "import time\n",
    "\n",
    "waiting_time=3\n",
    "\n",
    "iter_times=1\n",
    "\n",
    "print(\"detect and input will begin in {} seconds..\".format(waiting_time))\n",
    "\n",
    "for i in range(waiting_time,0,-1):\n",
    "    print(\"{} second remaining...\".format(i))\n",
    "    time.sleep(1)\n",
    "\n",
    "for i in range(iter_times):\n",
    "    im = pyautogui.screenshot(region=(1000,278, 105, 54))\n",
    "\n",
    "    all_number = np.array(im)\n",
    "\n",
    "    first_number = all_number[:,1:32]/255.\n",
    "    second_number = all_number[:,37:68]/255.\n",
    "    third_number = all_number[:,71:102]/255.\n",
    "\n",
    "    first_number_extension = np.expand_dims(first_number,axis=0)\n",
    "    second_number_extension = np.expand_dims(second_number,axis=0)\n",
    "    third_number_extension = np.expand_dims(third_number,axis=0)\n",
    "\n",
    "    number_array = np.concatenate((first_number_extension,second_number_extension),axis=0)\n",
    "    number_array = np.concatenate((number_array,third_number_extension),axis=0)\n",
    "\n",
    "    result = model(number_array[0:3])\n",
    "\n",
    "    keyboard_input = np.argmax(result,axis=1)+1\n",
    "\n",
    "    pyautogui.typewrite(str(keyboard_input[0]) + str(keyboard_input[1]) + str(keyboard_input[2]))\n",
    "    pyautogui.press('enter')\n",
    "    \n",
    "    time.sleep(1.5)"
   ]
  }
 ],
 "metadata": {
  "kernelspec": {
   "display_name": "Python 3",
   "language": "python",
   "name": "python3"
  },
  "language_info": {
   "codemirror_mode": {
    "name": "ipython",
    "version": 3
   },
   "file_extension": ".py",
   "mimetype": "text/x-python",
   "name": "python",
   "nbconvert_exporter": "python",
   "pygments_lexer": "ipython3",
   "version": "3.7.6"
  }
 },
 "nbformat": 4,
 "nbformat_minor": 4
}
