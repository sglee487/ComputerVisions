{
 "cells": [
  {
   "cell_type": "markdown",
   "metadata": {},
   "source": [
    "https://bcimoney.xyz/"
   ]
  },
  {
   "cell_type": "markdown",
   "metadata": {},
   "source": [
    "http://blog.naver.com/PostView.nhn?blogId=htblog&logNo=221510551432&parentCategoryNo=&categoryNo=99&viewDate=&isShowPopularPosts=true&from=search"
   ]
  },
  {
   "cell_type": "markdown",
   "metadata": {},
   "source": [
    "https://www.pyimagesearch.com/2017/07/17/credit-card-ocr-with-opencv-and-python/"
   ]
  },
  {
   "cell_type": "code",
   "execution_count": 1,
   "metadata": {},
   "outputs": [],
   "source": [
    "import tensorflow as tf\n",
    "import os\n",
    "import matplotlib.pyplot as plt\n",
    "import numpy as np"
   ]
  },
  {
   "cell_type": "code",
   "execution_count": 2,
   "metadata": {},
   "outputs": [],
   "source": [
    "def load(image_file):\n",
    "    # 해당경로의 파일을 읽어서 float 타입으로 변환합니다.\n",
    "    image = tf.io.read_file(image_file)\n",
    "    image = tf.image.decode_jpeg(image)\n",
    "    image = tf.cast(image, tf.float32)\n",
    "    image = tf.image.resize_with_pad(image,228,143)\n",
    "\n",
    "    return image"
   ]
  },
  {
   "cell_type": "code",
   "execution_count": 3,
   "metadata": {},
   "outputs": [],
   "source": [
    "image_1 = load(\"./numbers/1.jpg\")\n",
    "image_2 = load(\"./numbers/2.jpg\")\n",
    "image_3 = load(\"./numbers/3.jpg\")\n",
    "image_4 = load(\"./numbers/4.jpg\")\n",
    "image_5 = load(\"./numbers/5.jpg\")\n",
    "image_6 = load(\"./numbers/6.jpg\")\n",
    "image_7 = load(\"./numbers/7.jpg\")\n",
    "image_8 = load(\"./numbers/8.jpg\")\n",
    "image_9 = load(\"./numbers/9.jpg\")"
   ]
  },
  {
   "cell_type": "code",
   "execution_count": 4,
   "metadata": {},
   "outputs": [
    {
     "name": "stdout",
     "output_type": "stream",
     "text": [
      "(228, 143, 3)\n",
      "(228, 143, 3)\n",
      "(228, 143, 3)\n",
      "(228, 143, 3)\n",
      "(228, 143, 3)\n",
      "(228, 143, 3)\n",
      "(228, 143, 3)\n",
      "(228, 143, 3)\n",
      "(228, 143, 3)\n"
     ]
    }
   ],
   "source": [
    "print(image_1.shape)\n",
    "print(image_2.shape)\n",
    "print(image_3.shape)\n",
    "print(image_4.shape)\n",
    "print(image_5.shape)\n",
    "print(image_6.shape)\n",
    "print(image_7.shape)\n",
    "print(image_8.shape)\n",
    "print(image_9.shape)"
   ]
  },
  {
   "cell_type": "code",
   "execution_count": 5,
   "metadata": {},
   "outputs": [],
   "source": [
    "image_1_extension = np.expand_dims(image_1,axis=0)\n",
    "image_2_extension = np.expand_dims(image_2,axis=0)\n",
    "image_3_extension = np.expand_dims(image_3,axis=0)\n",
    "image_4_extension = np.expand_dims(image_4,axis=0)\n",
    "image_5_extension = np.expand_dims(image_5,axis=0)\n",
    "image_6_extension = np.expand_dims(image_6,axis=0)\n",
    "image_7_extension = np.expand_dims(image_7,axis=0)\n",
    "image_8_extension = np.expand_dims(image_8,axis=0)\n",
    "image_9_extension = np.expand_dims(image_9,axis=0)"
   ]
  },
  {
   "cell_type": "code",
   "execution_count": 6,
   "metadata": {},
   "outputs": [],
   "source": [
    "image_array = np.concatenate((image_1_extension,image_2_extension),axis=0)\n",
    "image_array = np.concatenate((image_array,image_3_extension),axis=0)\n",
    "image_array = np.concatenate((image_array,image_4_extension),axis=0)\n",
    "image_array = np.concatenate((image_array,image_5_extension),axis=0)\n",
    "image_array = np.concatenate((image_array,image_6_extension),axis=0)\n",
    "image_array = np.concatenate((image_array,image_7_extension),axis=0)\n",
    "image_array = np.concatenate((image_array,image_8_extension),axis=0)\n",
    "image_array = np.concatenate((image_array,image_9_extension),axis=0)"
   ]
  },
  {
   "cell_type": "code",
   "execution_count": 7,
   "metadata": {},
   "outputs": [],
   "source": [
    "image_array = tf.image.resize(image_array,(54,31))"
   ]
  },
  {
   "cell_type": "code",
   "execution_count": 8,
   "metadata": {},
   "outputs": [
    {
     "data": {
      "text/plain": [
       "TensorShape([9, 54, 31, 3])"
      ]
     },
     "execution_count": 8,
     "metadata": {},
     "output_type": "execute_result"
    }
   ],
   "source": [
    "image_array.shape"
   ]
  },
  {
   "cell_type": "code",
   "execution_count": 9,
   "metadata": {},
   "outputs": [],
   "source": [
    "num_classes = 9\n",
    "batch_size = 1"
   ]
  },
  {
   "cell_type": "code",
   "execution_count": 10,
   "metadata": {},
   "outputs": [],
   "source": [
    "label = [i for i in range(0,9)]\n",
    "label = tf.one_hot(label,num_classes)"
   ]
  },
  {
   "cell_type": "code",
   "execution_count": 11,
   "metadata": {},
   "outputs": [
    {
     "data": {
      "text/plain": [
       "<tf.Tensor: shape=(9, 9), dtype=float32, numpy=\n",
       "array([[1., 0., 0., 0., 0., 0., 0., 0., 0.],\n",
       "       [0., 1., 0., 0., 0., 0., 0., 0., 0.],\n",
       "       [0., 0., 1., 0., 0., 0., 0., 0., 0.],\n",
       "       [0., 0., 0., 1., 0., 0., 0., 0., 0.],\n",
       "       [0., 0., 0., 0., 1., 0., 0., 0., 0.],\n",
       "       [0., 0., 0., 0., 0., 1., 0., 0., 0.],\n",
       "       [0., 0., 0., 0., 0., 0., 1., 0., 0.],\n",
       "       [0., 0., 0., 0., 0., 0., 0., 1., 0.],\n",
       "       [0., 0., 0., 0., 0., 0., 0., 0., 1.]], dtype=float32)>"
      ]
     },
     "execution_count": 11,
     "metadata": {},
     "output_type": "execute_result"
    }
   ],
   "source": [
    "label"
   ]
  },
  {
   "cell_type": "code",
   "execution_count": 12,
   "metadata": {},
   "outputs": [
    {
     "name": "stdout",
     "output_type": "stream",
     "text": [
      "9\n",
      "<BatchDataset shapes: ((None, 54, 31, 3), (None, 9)), types: (tf.float32, tf.float32)>\n"
     ]
    }
   ],
   "source": [
    "train_dataset = tf.data.Dataset.from_tensor_slices((image_array,label))\n",
    "train_dataset = train_dataset.shuffle(len(list(train_dataset))) # over or equal than dataset number\n",
    "print(len(list(train_dataset)))\n",
    "train_dataset = train_dataset.batch(batch_size)\n",
    "\n",
    "print(train_dataset)"
   ]
  },
  {
   "cell_type": "code",
   "execution_count": 13,
   "metadata": {},
   "outputs": [],
   "source": [
    "class Conv(tf.keras.Model):\n",
    "    def __init__(self, num_filters, kernel_size):\n",
    "        super(Conv, self).__init__()\n",
    "        ## 코드 시작 ##\n",
    "        self.conv = tf.keras.layers.Conv2D(filters=num_filters,kernel_size=[kernel_size, kernel_size],padding='Same')\n",
    "        self.bn = tf.keras.layers.BatchNormalization()\n",
    "        self.relu = tf.keras.layers.ReLU()\n",
    "        self.pool = tf.keras.layers.MaxPool2D(pool_size=(2,2))\n",
    "        self.dropout = tf.keras.layers.Dropout(0.25)\n",
    "        ## 코드 종료 ##\n",
    "\n",
    "    def call(self, inputs, training=True):\n",
    "        ## 코드 시작 ##\n",
    "        x = self.conv(inputs)    # self.conv forward\n",
    "        x = self.bn(x)    # self.bn   forward\n",
    "        x = self.relu(x)    # self.relu forward\n",
    "        x = self.pool(x)    # self.pool forward\n",
    "        x = self.dropout(x)\n",
    "        ## 코드 종료 ##\n",
    "\n",
    "        return x"
   ]
  },
  {
   "cell_type": "code",
   "execution_count": 14,
   "metadata": {},
   "outputs": [],
   "source": [
    "class SimpleCNN(tf.keras.Model):\n",
    "    def __init__(self):\n",
    "        super(SimpleCNN, self).__init__()\n",
    "        ## 코드 시작 ##\n",
    "        self.conv1 = Conv(32,5)\n",
    "        self.conv2 = Conv(64,3)\n",
    "\n",
    "        self.flatten = tf.keras.layers.Flatten()\n",
    "        self.dense1 = tf.keras.layers.Dense(units=256,activation=tf.nn.relu)\n",
    "        self.dropout = tf.keras.layers.Dropout(0.25)\n",
    "        self.dense2 = tf.keras.layers.Dense(units=num_classes,activation=tf.nn.softmax)\n",
    "        ## 코드 종료 ##\n",
    "\n",
    "    def call(self, inputs, training=True):\n",
    "        ## 코드 시작 ##\n",
    "        x = self.conv1(inputs)    # self.conv1 forward\n",
    "        x = self.conv2(x)    # self.conv2 forward\n",
    "        x = self.flatten(x)    # flatten \n",
    "        x = self.dense1(x)    # self.dense1 forward\n",
    "        x = self.dropout(x)\n",
    "        x = self.dense2(x)    # self.dense2 forward\n",
    "        ## 코드 종료 ##\n",
    "\n",
    "        return x"
   ]
  },
  {
   "cell_type": "code",
   "execution_count": 15,
   "metadata": {},
   "outputs": [
    {
     "name": "stdout",
     "output_type": "stream",
     "text": [
      "(1, 54, 31, 3)\n",
      "Model: \"simple_cnn\"\n",
      "_________________________________________________________________\n",
      "Layer (type)                 Output Shape              Param #   \n",
      "=================================================================\n",
      "conv (Conv)                  multiple                  2560      \n",
      "_________________________________________________________________\n",
      "conv_1 (Conv)                multiple                  18752     \n",
      "_________________________________________________________________\n",
      "flatten (Flatten)            multiple                  0         \n",
      "_________________________________________________________________\n",
      "dense (Dense)                multiple                  1491200   \n",
      "_________________________________________________________________\n",
      "dropout_2 (Dropout)          multiple                  0         \n",
      "_________________________________________________________________\n",
      "dense_1 (Dense)              multiple                  2313      \n",
      "=================================================================\n",
      "Total params: 1,514,825\n",
      "Trainable params: 1,514,633\n",
      "Non-trainable params: 192\n",
      "_________________________________________________________________\n"
     ]
    }
   ],
   "source": [
    "model = SimpleCNN()\n",
    "for images, labels in train_dataset.take(1):\n",
    "    print(images.shape)\n",
    "    outputs = model(images, training=False)\n",
    "model.summary()"
   ]
  },
  {
   "cell_type": "code",
   "execution_count": 16,
   "metadata": {},
   "outputs": [],
   "source": [
    "optimizer = tf.keras.optimizers.RMSprop(lr=0.001, rho=0.9, epsilon=1e-08, decay=0.0)\n",
    "model.compile(optimizer=optimizer, loss=\"categorical_crossentropy\")"
   ]
  },
  {
   "cell_type": "code",
   "execution_count": 24,
   "metadata": {},
   "outputs": [
    {
     "name": "stdout",
     "output_type": "stream",
     "text": [
      "Train for 9 steps\n",
      "Epoch 1/11\n",
      "9/9 [==============================] - 0s 5ms/step - loss: 0.0548\n",
      "Epoch 2/11\n",
      "9/9 [==============================] - 0s 5ms/step - loss: 0.0163\n",
      "Epoch 3/11\n",
      "9/9 [==============================] - 0s 5ms/step - loss: 0.0322\n",
      "Epoch 4/11\n",
      "9/9 [==============================] - 0s 5ms/step - loss: 0.3770\n",
      "Epoch 5/11\n",
      "9/9 [==============================] - 0s 5ms/step - loss: 0.0102\n",
      "Epoch 6/11\n",
      "9/9 [==============================] - 0s 5ms/step - loss: 0.0025\n",
      "Epoch 7/11\n",
      "9/9 [==============================] - 0s 5ms/step - loss: 0.0017\n",
      "Epoch 8/11\n",
      "9/9 [==============================] - 0s 5ms/step - loss: 3.8360e-04\n",
      "Epoch 9/11\n",
      "9/9 [==============================] - 0s 5ms/step - loss: 0.0041\n",
      "Epoch 10/11\n",
      "9/9 [==============================] - 0s 5ms/step - loss: 0.0032\n",
      "Epoch 11/11\n",
      "9/9 [==============================] - 0s 5ms/step - loss: 1.0812e-04\n"
     ]
    }
   ],
   "source": [
    "outputs = model.fit(train_dataset,epochs=11,verbose=1)"
   ]
  },
  {
   "cell_type": "code",
   "execution_count": 18,
   "metadata": {},
   "outputs": [],
   "source": [
    "result1 = model(image_array[0:5])"
   ]
  },
  {
   "cell_type": "code",
   "execution_count": 19,
   "metadata": {},
   "outputs": [
    {
     "name": "stdout",
     "output_type": "stream",
     "text": [
      "tf.Tensor(\n",
      "[[2.17451140e-01 6.20511472e-01 5.32247871e-03 1.45098060e-01\n",
      "  4.81443945e-03 1.99247486e-04 5.92892291e-03 6.72700815e-04\n",
      "  1.50619780e-06]\n",
      " [1.95301676e-04 9.95075881e-01 1.17683121e-04 3.90034751e-03\n",
      "  1.95715023e-04 1.86229972e-05 2.29271449e-04 2.65641895e-04\n",
      "  1.68012809e-06]\n",
      " [1.67855958e-03 9.29363608e-01 3.95141868e-03 6.41265735e-02\n",
      "  1.02277765e-04 3.27399830e-05 5.79496613e-04 1.64949684e-04\n",
      "  3.12377892e-07]\n",
      " [5.90943127e-05 1.75633852e-03 2.78473326e-05 9.98148680e-01\n",
      "  4.99322937e-07 5.11684959e-07 7.02538728e-06 4.65381795e-08\n",
      "  1.28454414e-10]\n",
      " [2.64608907e-03 6.30557239e-01 5.75343402e-05 2.27563065e-02\n",
      "  3.38787258e-01 4.34838614e-04 4.48817387e-03 2.71424244e-04\n",
      "  1.10374367e-06]], shape=(5, 9), dtype=float32)\n"
     ]
    }
   ],
   "source": [
    "print(result1)"
   ]
  },
  {
   "cell_type": "code",
   "execution_count": 20,
   "metadata": {},
   "outputs": [
    {
     "name": "stdout",
     "output_type": "stream",
     "text": [
      "[2 2 2 4 2]\n"
     ]
    }
   ],
   "source": [
    "print(np.argmax(result1,axis=1)+1)"
   ]
  },
  {
   "cell_type": "code",
   "execution_count": 25,
   "metadata": {},
   "outputs": [
    {
     "data": {
      "image/png": "[encoded data removed]",
      "text/plain": [
       "<Figure size 360x360 with 8 Axes>"
      ]
     },
     "metadata": {
      "needs_background": "light"
     },
     "output_type": "display_data"
    }
   ],
   "source": [
    "labels_map = {1:\"1\",2:\"2\",3:\"3\",4:\"4\",5:\"5\",6:\"6\",7:\"7\",8:\"8\",9:\"9\"}\n",
    "\n",
    "predict = model(image_array[0:-1], training=False)\n",
    "real_label = [i for i in range(1,10)]\n",
    "\n",
    "fig = plt.figure(figsize=(5, 5))\n",
    "for i, (pre, label, image) in enumerate(zip(predict, real_label, image_array)):\n",
    "    p = fig.add_subplot(2, 5, i+1)\n",
    "    if np.argmax(pre)+1 == label:\n",
    "        p.set_title(\"{}\".format(labels_map[label]), color='blue')\n",
    "    else:\n",
    "        p.set_title(\"{}/{}\".format(labels_map[np.argmax(pre)+1],\n",
    "                                   labels_map[label]), color='red')\n",
    "    p.imshow(image/255)\n",
    "    p.axis('off')"
   ]
  },
  {
   "cell_type": "code",
   "execution_count": 22,
   "metadata": {},
   "outputs": [],
   "source": [
    "model.save_weights(os.path.join('./trained_model/my_model_bcimoneydigit'))"
   ]
  },
  {
   "cell_type": "code",
   "execution_count": 27,
   "metadata": {},
   "outputs": [
    {
     "name": "stdout",
     "output_type": "stream",
     "text": [
      "tf.Tensor(\n",
      "[[1.24294842e-02 4.51827534e-02 4.08421300e-04 1.17866693e-05\n",
      "  3.33291106e-02 8.57419509e-05 7.96295285e-01 1.12156741e-01\n",
      "  1.00682169e-04]\n",
      " [1.24086179e-02 4.50152233e-02 4.08238411e-04 1.18181943e-05\n",
      "  3.33719850e-02 8.56748302e-05 7.96227574e-01 1.12370238e-01\n",
      "  1.00601246e-04]\n",
      " [1.20373983e-02 4.31661084e-02 4.00298333e-04 1.16593310e-05\n",
      "  3.29852961e-02 8.86533089e-05 7.94405103e-01 1.16804421e-01\n",
      "  1.01026315e-04]], shape=(3, 9), dtype=float32)\n",
      "[7 7 7]\n"
     ]
    },
    {
     "data": {
      "image/png": "[encoded data removed]",
      "text/plain": [
       "<Figure size 360x360 with 3 Axes>"
      ]
     },
     "metadata": {
      "needs_background": "light"
     },
     "output_type": "display_data"
    }
   ],
   "source": [
    "import pyautogui\n",
    "\n",
    "im = pyautogui.screenshot(region=(1000,278, 105, 54))\n",
    "\n",
    "all_number = np.array(im)\n",
    "\n",
    "first_number = all_number[:,0:31]/255.\n",
    "second_number = all_number[:,37:68]/255.\n",
    "third_number = all_number[:,71:102]/255.\n",
    "\n",
    "fig = plt.figure(figsize=(5, 5))\n",
    "p = fig.add_subplot(1, 3, 1)\n",
    "p.imshow(first_number)\n",
    "p = fig.add_subplot(1, 3, 2)\n",
    "p.imshow(second_number)\n",
    "p = fig.add_subplot(1, 3, 3)\n",
    "p.imshow(third_number)\n",
    "\n",
    "first_number_extension = np.expand_dims(first_number,axis=0)\n",
    "second_number_extension = np.expand_dims(second_number,axis=0)\n",
    "third_number_extension = np.expand_dims(third_number,axis=0)\n",
    "\n",
    "number_array = np.concatenate((first_number_extension,second_number_extension),axis=0)\n",
    "number_array = np.concatenate((number_array,third_number_extension),axis=0)\n",
    "\n",
    "result = model(number_array[0:3])\n",
    "\n",
    "print(result)\n",
    "\n",
    "print(np.argmax(result,axis=1)+1)"
   ]
  }
 ],
 "metadata": {
  "kernelspec": {
   "display_name": "Python 3",
   "language": "python",
   "name": "python3"
  },
  "language_info": {
   "codemirror_mode": {
    "name": "ipython",
    "version": 3
   },
   "file_extension": ".py",
   "mimetype": "text/x-python",
   "name": "python",
   "nbconvert_exporter": "python",
   "pygments_lexer": "ipython3",
   "version": "3.7.6"
  }
 },
 "nbformat": 4,
 "nbformat_minor": 4
}
